{
  "nbformat": 4,
  "nbformat_minor": 0,
  "metadata": {
    "colab": {
      "provenance": []
    },
    "kernelspec": {
      "name": "python3",
      "display_name": "Python 3"
    },
    "language_info": {
      "name": "python"
    }
  },
  "cells": [
    {
      "cell_type": "code",
      "execution_count": null,
      "metadata": {
        "colab": {
          "base_uri": "https://localhost:8080/"
        },
        "id": "prOZYZSlaFEP",
        "outputId": "fa19cbdf-6170-4f85-e475-b6e0bf729370"
      },
      "outputs": [
        {
          "output_type": "stream",
          "name": "stderr",
          "text": [
            "Device set to use cpu\n"
          ]
        },
        {
          "output_type": "stream",
          "name": "stdout",
          "text": [
            "Simple QA Chatbot (Type 'exit' to stop)\n",
            "Provide some context:\n",
            "PV Sindhu is an Indian badminton player who has won multiple international titles, including an Olympic silver and bronze medal\n",
            "\n",
            "Ask a question: Who is PV Sindhu?\n",
            "Answer: an Indian badminton player\n",
            "\n",
            "Ask a question: What did she win?\n",
            "Answer: Olympic silver and bronze medal\n",
            "\n",
            "Ask a question: exit\n",
            "Goodbye!\n"
          ]
        }
      ],
      "source": [
        "import torch\n",
        "from transformers import pipeline\n",
        "\n",
        "# Load a pre-trained question-answering model\n",
        "qa_pipeline = pipeline(\"question-answering\", model=\"distilbert-base-cased-distilled-squad\")\n",
        "\n",
        "def chatbot():\n",
        "    print(\"Simple QA Chatbot (Type 'exit' to stop)\")\n",
        "    context = input(\"Provide some context:\\n\")  # User provides background info\n",
        "\n",
        "    while True:\n",
        "        question = input(\"\\nAsk a question: \")\n",
        "        if question.lower() == \"exit\":\n",
        "            print(\"Goodbye!\")\n",
        "            break\n",
        "\n",
        "        # Get the answer from the model\n",
        "        answer = qa_pipeline(question=question, context=context)\n",
        "        print(f\"Answer: {answer['answer']}\")\n",
        "\n",
        "# Run the chatbot\n",
        "chatbot()\n"
      ]
    }
  ]
}