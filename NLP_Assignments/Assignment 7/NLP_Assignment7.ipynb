{
  "nbformat": 4,
  "nbformat_minor": 0,
  "metadata": {
    "colab": {
      "provenance": []
    },
    "kernelspec": {
      "name": "python3",
      "display_name": "Python 3"
    },
    "language_info": {
      "name": "python"
    }
  },
  "cells": [
    {
      "cell_type": "code",
      "source": [
        "!pip install nltk"
      ],
      "metadata": {
        "colab": {
          "base_uri": "https://localhost:8080/"
        },
        "id": "JPDaM7z6wfmD",
        "outputId": "fe9500f0-05f2-4ed8-fbf8-d2fe5117b5fc"
      },
      "execution_count": null,
      "outputs": [
        {
          "output_type": "stream",
          "name": "stdout",
          "text": [
            "Requirement already satisfied: nltk in /usr/local/lib/python3.11/dist-packages (3.9.1)\n",
            "Requirement already satisfied: click in /usr/local/lib/python3.11/dist-packages (from nltk) (8.1.8)\n",
            "Requirement already satisfied: joblib in /usr/local/lib/python3.11/dist-packages (from nltk) (1.4.2)\n",
            "Requirement already satisfied: regex>=2021.8.3 in /usr/local/lib/python3.11/dist-packages (from nltk) (2024.11.6)\n",
            "Requirement already satisfied: tqdm in /usr/local/lib/python3.11/dist-packages (from nltk) (4.67.1)\n"
          ]
        }
      ]
    },
    {
      "cell_type": "code",
      "source": [
        "import nltk\n",
        "import random\n",
        "import re\n",
        "from collections import defaultdict\n",
        "from nltk.tokenize import word_tokenize\n",
        "from nltk.util import ngrams\n",
        "from nltk.corpus import reuters"
      ],
      "metadata": {
        "id": "3CZ8T_Lcwlb-"
      },
      "execution_count": null,
      "outputs": []
    },
    {
      "cell_type": "code",
      "source": [
        "nltk.download(\"punkt\")\n",
        "nltk.download(\"reuters\")"
      ],
      "metadata": {
        "colab": {
          "base_uri": "https://localhost:8080/"
        },
        "id": "mXb1FUxywmuU",
        "outputId": "a6014da9-49bf-4532-ddc9-d6a53c4efbc5"
      },
      "execution_count": null,
      "outputs": [
        {
          "output_type": "stream",
          "name": "stderr",
          "text": [
            "[nltk_data] Downloading package punkt to /root/nltk_data...\n",
            "[nltk_data]   Unzipping tokenizers/punkt.zip.\n",
            "[nltk_data] Downloading package reuters to /root/nltk_data...\n"
          ]
        },
        {
          "output_type": "execute_result",
          "data": {
            "text/plain": [
              "True"
            ]
          },
          "metadata": {},
          "execution_count": 14
        }
      ]
    },
    {
      "cell_type": "code",
      "source": [
        "corpus = \" \".join(reuters.words()).lower()\n",
        "\n",
        "corpus = re.sub(r\"[^a-z\\s]\", \"\", corpus)\n",
        "\n",
        "tokens = word_tokenize(corpus)\n",
        "\n",
        "n = 2\n",
        "ngrams_list = list(ngrams(tokens, n))\n",
        "\n",
        "ngram_freq = defaultdict(lambda: defaultdict(int))\n",
        "\n",
        "for gram in ngrams_list:\n",
        "    prev_word, next_word = gram[0], gram[1]\n",
        "    ngram_freq[prev_word][next_word] += 1\n",
        "\n",
        "ngram_prob = {}\n",
        "for prev_word in ngram_freq:\n",
        "    total_count = sum(ngram_freq[prev_word].values())\n",
        "    ngram_prob[prev_word] = {word: count / total_count for word, count in ngram_freq[prev_word].items()}\n",
        "\n",
        "def predict_next_word(prev_word, top_k=3):\n",
        "    if prev_word in ngram_prob:\n",
        "        sorted_predictions = sorted(ngram_prob[prev_word].items(), key=lambda x: x[1], reverse=True)\n",
        "        return [word for word, prob in sorted_predictions[:top_k]]\n",
        "    else:\n",
        "        return [\"No prediction available\"]"
      ],
      "metadata": {
        "id": "RjH8sxDlwvgW"
      },
      "execution_count": null,
      "outputs": []
    },
    {
      "cell_type": "code",
      "source": [
        "input_text = input(\"Enter a word to predict next: \")\n",
        "predictions = predict_next_word(input_text)\n",
        "\n",
        "print(f\"Predictions for '{input_text}': {predictions}\")"
      ],
      "metadata": {
        "colab": {
          "base_uri": "https://localhost:8080/"
        },
        "id": "g3EOsBaRwv_p",
        "outputId": "1b897918-d4a3-4d2f-bf0c-8c05031820f0"
      },
      "execution_count": null,
      "outputs": [
        {
          "output_type": "stream",
          "name": "stdout",
          "text": [
            "Enter a word to predict next: fintech\n",
            "Predictions for 'fintech': ['an', 'shareholders', 'unit']\n"
          ]
        }
      ]
    }
  ]
}